{
  "nbformat": 4,
  "nbformat_minor": 0,
  "metadata": {
    "colab": {
      "provenance": []
    },
    "kernelspec": {
      "name": "python3",
      "display_name": "Python 3"
    },
    "language_info": {
      "name": "python"
    }
  },
  "cells": [
    {
      "cell_type": "markdown",
      "source": [
        "## Make a copy of this colab notebook and write your code in the designated place. After you are done with writing your code, run all cells (Ctrl+F9). Rename the file in the format \"ID_CP4.ipynb\" (Example: 20202020_CP4.ipynb) before submitting.\n",
        "\n",
        "## Complete the following function detectCycle(A), where the input A is the adjacency list of an unweighted undirected graph. The nodes are numbered from 0 to (N-1) where N = len(A) is the number of nodes.\n",
        "\n",
        "## If the graph has no cycle then return False. Otherwise return True.\n",
        "\n",
        "### Example1: `A = [[7],[3,4],[3],[1,2],[1],[6],[5,7],[0,6]]`, output = `False`.\n",
        "### Example2: `A = [[],[3,4],[3,4],[1,2],[1,2]]`, output = `True`.\n"
      ],
      "metadata": {
        "id": "bWtsK1z_crLD"
      }
    },
    {
      "cell_type": "code",
      "source": [
        "# You can write more code here\n",
        "def detectCycle(A):\n",
        "    # Write your code here\n",
        "    return False"
      ],
      "metadata": {
        "id": "ZPeY9E2Ycuu6"
      },
      "execution_count": null,
      "outputs": []
    },
    {
      "cell_type": "code",
      "source": [
        "# Do not modify the following code\n",
        "\n",
        "A = [[],[3,4],[3],[1,2],[1]]\n",
        "flag = False\n",
        "B = detectCycle(A)\n",
        "if flag == B:\n",
        "    print(\"OK\")\n",
        "else:\n",
        "    print(\"WA\")\n",
        "\n",
        "A = [[],[3,4],[3,4],[1,2],[1,2]]\n",
        "flag = True\n",
        "B = detectCycle(A)\n",
        "if flag == B:\n",
        "    print(\"OK\")\n",
        "else:\n",
        "    print(\"WA\")\n",
        "\n",
        "A = [[],[3,4,7],[3,5],[1,2],[1],[2,6],[5,7],[1,6]]\n",
        "flag = True\n",
        "B = detectCycle(A)\n",
        "if flag == B:\n",
        "    print(\"OK\")\n",
        "else:\n",
        "    print(\"WA\")\n",
        "\n",
        "A = [[],[3,4],[3],[1,2],[1],[6,7],[5,7],[5,6]]\n",
        "flag = True\n",
        "B = detectCycle(A)\n",
        "if flag == B:\n",
        "    print(\"OK\")\n",
        "else:\n",
        "    print(\"WA\")\n",
        "\n",
        "A = [[7],[3,4],[3],[1,2],[1],[6],[5,7],[0,6]]\n",
        "flag = False\n",
        "B = detectCycle(A)\n",
        "if flag == B:\n",
        "    print(\"OK\")\n",
        "else:\n",
        "    print(\"WA\")\n"
      ],
      "metadata": {
        "colab": {
          "base_uri": "https://localhost:8080/"
        },
        "id": "_H_dthDAeaOj",
        "outputId": "004cc53e-da7c-4d5a-d523-2147547d47c1"
      },
      "execution_count": null,
      "outputs": [
        {
          "output_type": "stream",
          "name": "stdout",
          "text": [
            "OK\n",
            "WA\n",
            "WA\n",
            "WA\n",
            "OK\n"
          ]
        }
      ]
    }
  ]
}