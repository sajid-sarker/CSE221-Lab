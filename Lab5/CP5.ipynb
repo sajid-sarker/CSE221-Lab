{
  "nbformat": 4,
  "nbformat_minor": 0,
  "metadata": {
    "colab": {
      "provenance": []
    },
    "kernelspec": {
      "name": "python3",
      "display_name": "Python 3"
    },
    "language_info": {
      "name": "python"
    }
  },
  "cells": [
    {
      "cell_type": "code",
      "execution_count": null,
      "metadata": {
        "colab": {
          "base_uri": "https://localhost:8080/"
        },
        "id": "qCfMSQc5cXdT",
        "outputId": "a3540f09-b4a1-4716-b59b-98a27638bcc6"
      },
      "outputs": [
        {
          "output_type": "stream",
          "name": "stdout",
          "text": [
            "o e t h i r "
          ]
        }
      ],
      "source": [
        "#\n",
        "arr = ['error','tooth', 'tot', 'teeth', 'their', 'there', 'thi', 'tie', 'hit']\n",
        "arr2 = ['eat', 'tea', 'ate']\n",
        "n = len(arr)\n",
        "\n",
        "\n",
        "def createGraph(arr):\n",
        "  G = {}\n",
        "  for i in range(len(arr)-1):\n",
        "    word1 = arr[i]\n",
        "    word2 = arr[i+1]\n",
        "\n",
        "    rng = min(len(word1), len(word2))\n",
        "\n",
        "    for j in range(rng):\n",
        "      if word1[j] not in G:\n",
        "        G[word1[j]] = []\n",
        "      if word2[j] not in G:\n",
        "        G[word2[j]] = []\n",
        "\n",
        "\n",
        "      if word1[j] != word2[j]:\n",
        "        if word2[j] not in G[word1[j]]:\n",
        "          G[word1[j]].append(word2[j])\n",
        "          break\n",
        "\n",
        "  return G\n",
        "\n",
        "\n",
        "def dfs(G, u, visited, stack):\n",
        "  visited.add(u)\n",
        "  for w in G[u]:\n",
        "    if w not in visited:\n",
        "      dfs(G, w, visited, stack)\n",
        "  stack.append(u)\n",
        "\n",
        "\n",
        "def topSort(G):\n",
        "  visited=set()\n",
        "  stack = []\n",
        "  for u in G.keys():\n",
        "    if u not in visited:\n",
        "      dfs(G, u, visited, stack)\n",
        "\n",
        "  for i in range(len(stack)-1, -1, -1):\n",
        "    print(stack[i], end=\" \")\n",
        "\n",
        "\n",
        "\n",
        "G = createGraph(arr)\n",
        "topSort(G)"
      ]
    }
  ]
}